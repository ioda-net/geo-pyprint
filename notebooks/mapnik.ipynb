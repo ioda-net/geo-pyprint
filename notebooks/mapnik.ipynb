{
 "cells": [
  {
   "cell_type": "code",
   "execution_count": 2,
   "metadata": {
    "collapsed": false
   },
   "outputs": [],
   "source": [
    "import mapnik"
   ]
  },
  {
   "cell_type": "code",
   "execution_count": 3,
   "metadata": {
    "collapsed": false
   },
   "outputs": [],
   "source": [
    "m = mapnik.Map(800, 800)\n",
    "m.background = mapnik.Color(0, 0, 0, 0)\n",
    "\n",
    "\n",
    "mapnik.load_map_from_string(m, '''\n",
    "<!DOCTYPE Map>\n",
    "<Map srs=\"+proj=latlong +datum=WGS84\" background-color=\"white\" minimum-version=\"0.7.2\">\n",
    "   <Style name=\"label\">\n",
    "     <Rule>\n",
    "          <TextSymbolizer size=\"15\" fill=\"black\" face-name=\"DejaVu Sans Bold\" halo-fill=\"#DFDBE3\" halo-radius=\"1\" wrap-width=\"20\">[Name]</TextSymbolizer>\n",
    "     </Rule>\n",
    "  </Style>\n",
    "  <Style name=\"label_points\">\n",
    "      <Rule>\n",
    "          <ShieldSymbolizer face-name=\"DejaVu Sans Bold\" size=\"15\" fill=\"#000000\" halo-fill=\"#DFDBE3\" halo-radius=\"1\" file=\"./marker-24@2x.png\" dx=\"3\" dy=\"3\">[Name]</ShieldSymbolizer>\n",
    "      </Rule>\n",
    "  </Style>\n",
    "</Map>\n",
    "''')"
   ]
  },
  {
   "cell_type": "code",
   "execution_count": 4,
   "metadata": {
    "collapsed": false
   },
   "outputs": [],
   "source": [
    "s = mapnik.Style() # style object to hold rules\n",
    "r = mapnik.Rule() # rule object to hold symbolizers\n",
    "# to fill a polygon we create a PolygonSymboloizer\n",
    "\n",
    "polygon_symbolizer = mapnik.PolygonSymbolizer()\n",
    "polygon_symbolizer.fill = mapnik.Color('blue')\n",
    "r.symbols.append(polygon_symbolizer) # add the symbolizer to the rule object\n",
    "\n",
    "# to add outlines to a polygon we create a LineSymbolizer\n",
    "line_symbolizer = mapnik.LineSymbolizer()\n",
    "line_symbolizer.stroke = mapnik.Color('red')\n",
    "line_symbolizer.stroke_width = 5.0\n",
    "r.symbols.append(line_symbolizer) # add the symbolizer to the rule object\n",
    "\n",
    "s.rules.append(r)\n",
    "s.opacity = 0.5\n",
    "\n",
    "m.append_style('lines_polygons', s) # Styles are given names only as they are applied to the map\n",
    "\n",
    "\n",
    "\n",
    "s = mapnik.Style()\n",
    "r = mapnik.Rule()\n",
    "\n",
    "point_symbolizer = mapnik.PointSymbolizer()\n",
    "point_symbolizer.file = 'marker-24@2x.png'\n",
    "\n",
    "r.symbols.append(point_symbolizer)\n",
    "s.rules.append(r)\n",
    "m.append_style('markers', s)"
   ]
  },
  {
   "cell_type": "code",
   "execution_count": 5,
   "metadata": {
    "collapsed": false
   },
   "outputs": [],
   "source": [
    "# Lines and polygons\n",
    "## KML\n",
    "lyr = mapnik.Layer('Drawing')\n",
    "lyr.datasource = mapnik.Ogr(file = './test.kml', layer_by_index=0)\n",
    "lyr.styles.append('lines_polygons')\n",
    "bbox = lyr.envelope()\n",
    "m.layers.append(lyr)\n",
    "\n",
    "## GeoJSON\n",
    "lyr = mapnik.Layer('Drawing')\n",
    "lyr.datasource = mapnik.Ogr(file='./test.geojson', layer_by_index=0)\n",
    "lyr.styles.append('lines_polygons')\n",
    "m.layers.append(lyr)"
   ]
  },
  {
   "cell_type": "code",
   "execution_count": 6,
   "metadata": {
    "collapsed": true
   },
   "outputs": [],
   "source": [
    "# Text\n",
    "## KML\n",
    "lyr = mapnik.Layer('Drawing')\n",
    "lyr.datasource = mapnik.Ogr(file='./text.kml', layer_by_index=0)\n",
    "lyr.styles.append('label')\n",
    "m.layers.append(lyr)\n",
    "\n",
    "## GeoJSON\n",
    "lyr = mapnik.Layer('Drawing')\n",
    "lyr.datasource = mapnik.Ogr(file='./text.geojson', layer_by_index=0)\n",
    "lyr.styles.append('label')\n",
    "m.layers.append(lyr)"
   ]
  },
  {
   "cell_type": "code",
   "execution_count": 7,
   "metadata": {
    "collapsed": false
   },
   "outputs": [],
   "source": [
    "# Points\n",
    "## KML\n",
    "lyr = mapnik.Layer('Drawing')\n",
    "lyr.datasource = mapnik.Ogr(file='./markers.kml', layer_by_index=0)\n",
    "lyr.styles.append('markers')\n",
    "m.layers.append(lyr)\n",
    "\n",
    "## GeoJSON\n",
    "lyr = mapnik.Layer('Drawing')\n",
    "lyr.datasource = mapnik.Ogr(file='./markers.geojson', layer_by_index=0)\n",
    "lyr.styles.append('markers')\n",
    "m.layers.append(lyr)"
   ]
  },
  {
   "cell_type": "code",
   "execution_count": 8,
   "metadata": {
    "collapsed": true
   },
   "outputs": [],
   "source": [
    "# Points with labels\n",
    "## KML\n",
    "lyr = mapnik.Layer('Drawing')\n",
    "lyr.datasource = mapnik.Ogr(file='./markers-labels.kml', layer_by_index=0)\n",
    "lyr.styles.append('label_points')\n",
    "m.layers.append(lyr)\n",
    "\n",
    "## GeoJSON\n",
    "lyr = mapnik.Layer('Drawing')\n",
    "lyr.datasource = mapnik.Ogr(file='./markers-labels.geojson', layer_by_index=0)\n",
    "lyr.styles.append('label_points')\n",
    "m.layers.append(lyr)"
   ]
  },
  {
   "cell_type": "code",
   "execution_count": 9,
   "metadata": {
    "collapsed": true
   },
   "outputs": [],
   "source": [
    "m.zoom_all()"
   ]
  },
  {
   "cell_type": "code",
   "execution_count": 10,
   "metadata": {
    "collapsed": false
   },
   "outputs": [],
   "source": [
    "mapnik.render_to_file(m, 'test.png', 'png')"
   ]
  },
  {
   "cell_type": "code",
   "execution_count": null,
   "metadata": {
    "collapsed": true
   },
   "outputs": [],
   "source": []
  }
 ],
 "metadata": {
  "kernelspec": {
   "display_name": "Python 3",
   "language": "python",
   "name": "python3"
  },
  "language_info": {
   "codemirror_mode": {
    "name": "ipython",
    "version": 3
   },
   "file_extension": ".py",
   "mimetype": "text/x-python",
   "name": "python",
   "nbconvert_exporter": "python",
   "pygments_lexer": "ipython3",
   "version": "3.4.3"
  }
 },
 "nbformat": 4,
 "nbformat_minor": 0
}
